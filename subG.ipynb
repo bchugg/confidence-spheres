{
 "cells": [
  {
   "cell_type": "code",
   "execution_count": 2,
   "metadata": {},
   "outputs": [],
   "source": [
    "import numpy as np \n",
    "import matplotlib.pyplot as plt\n",
    "from matplotlib import rc"
   ]
  },
  {
   "cell_type": "code",
   "execution_count": 4,
   "metadata": {},
   "outputs": [],
   "source": [
    "# Configure Matplotlib to use LaTeX\n",
    "rc('font', **{'family': 'serif', 'serif': ['Computer Modern']})\n",
    "rc('text', usetex=True)\n",
    "plt.rcParams.update({'font.size': 18})\n",
    "# Use latex font "
   ]
  },
  {
   "cell_type": "code",
   "execution_count": 59,
   "metadata": {},
   "outputs": [],
   "source": [
    "def subG_css(trSigma, lambdamax, n, r): \n",
    "\n",
    "    beta = np.sqrt(2*trSigma*r / lambdamax)\n",
    "    lambda_num = beta + 2*r\n",
    "\n",
    "    lambda_sum = 0 \n",
    "    lambda2_sum = 0\n",
    "\n",
    "    widths = []\n",
    "    for t in range(1, n): \n",
    "        lambda_denom = (lambdamax + trSigma/beta)*t*np.log(t+100)*4\n",
    "        lambdat =  np.sqrt(lambda_num / lambda_denom)\n",
    "        lambda_sum += lambdat\n",
    "        lambda2_sum += lambdat**2\n",
    "\n",
    "        width_num = lambda2_sum*(lambdamax + trSigma/beta) + beta/2 + r\n",
    "        width_denom = lambda_sum\n",
    "        widths.append(width_num / width_denom) \n",
    "\n",
    "    return widths\n",
    "\n",
    "def Hsu_n(trSigma, trSigma2, lambdamax, n, r): \n",
    "\n",
    "    s = trSigma + 2*lambdamax*r + 2*np.sqrt(trSigma2*r)\n",
    "    return np.sqrt(s/n)\n",
    "\n",
    "def stitched_Hsu(trSigma, trSigma2, lambdamax, n, r): \n",
    "\n",
    "    widths = []\n",
    "    for t in range(1, n): \n",
    "\n",
    "        # if t is a power of 2 \n",
    "        if (t & (t-1)) == 0: \n",
    "            width = Hsu_n(trSigma, trSigma2, lambdamax, t/2, r + 2*np.log(np.log2(t)) + 1/2)\n",
    "            widths.append(width)\n",
    "        else: \n",
    "            widths.append(widths[-1])\n",
    "\n",
    "    return widths\n",
    "\n",
    "def stitched_subG_css(trSigma, lambdamax, n, r):\n",
    "\n",
    "    widths = []\n",
    "    epoch= 0 \n",
    "    for t in range(1, n): \n",
    "        # if t is a power of 2 \n",
    "        if (t & (t-1)) == 0: \n",
    "            # New epoch \n",
    "            epoch += 1 \n",
    "            r_e = np.log((epoch + 1)**2 * 1.645) + r\n",
    "            beta_e = np.sqrt(r_e * trSigma / lambdamax) \n",
    "            lambda_e = beta_e / np.sqrt(trSigma*2**epoch)\n",
    "\n",
    "        width_num = t*lambda_e**2*(lambdamax + trSigma/beta_e) + beta_e/2 + r_e\n",
    "        width_denom = t*lambda_e\n",
    "        widths.append(width_num / width_denom)\n",
    "\n",
    "    return widths\n",
    "\n",
    "\n"
   ]
  },
  {
   "cell_type": "code",
   "execution_count": 66,
   "metadata": {},
   "outputs": [
    {
     "name": "stderr",
     "output_type": "stream",
     "text": [
      "/var/folders/sz/2wd5h2r14jd0tbp7zpbm11_h0000gn/T/ipykernel_64433/1657605218.py:34: RuntimeWarning: divide by zero encountered in log\n",
      "  width = Hsu_n(trSigma, trSigma2, lambdamax, t/2, r + np.log(np.log2(t)) + 1/2)\n",
      "/var/folders/sz/2wd5h2r14jd0tbp7zpbm11_h0000gn/T/ipykernel_64433/1657605218.py:24: RuntimeWarning: invalid value encountered in sqrt\n",
      "  s = (trSigma + 2*lambdamax*r) + 2*np.sqrt(trSigma2*r)\n"
     ]
    },
    {
     "data": {
      "image/png": "[encoded data removed]",
      "text/plain": [
       "<Figure size 432x288 with 1 Axes>"
      ]
     },
     "metadata": {
      "needs_background": "light"
     },
     "output_type": "display_data"
    }
   ],
   "source": [
    "alpha = 0.05 \n",
    "\n",
    "css = subG_css(5, 1, 10000, np.log(1/alpha))\n",
    "stitched_css = stitched_subG_css(5, 1, 10000, np.log(1/alpha))\n",
    "stitched_hsu = stitched_Hsu(5, 5, 1, 10000, np.log(1/alpha))\n",
    "\n",
    "plt.plot(css, label='Theorem 1')\n",
    "plt.plot(stitched_css, label='Stitched Theorem 1')\n",
    "plt.plot(stitched_hsu, label='Stitched Hsu')\n",
    "\n",
    "plt.legend()\n",
    "\n",
    "plt.yscale('log')\n",
    "plt.xscale('log')\n"
   ]
  }
 ],
 "metadata": {
  "kernelspec": {
   "display_name": "playground",
   "language": "python",
   "name": "python3"
  },
  "language_info": {
   "codemirror_mode": {
    "name": "ipython",
    "version": 3
   },
   "file_extension": ".py",
   "mimetype": "text/x-python",
   "name": "python",
   "nbconvert_exporter": "python",
   "pygments_lexer": "ipython3",
   "version": "3.9.12"
  }
 },
 "nbformat": 4,
 "nbformat_minor": 2
}

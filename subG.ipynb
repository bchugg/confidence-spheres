{
  "cells": [
    {
      "cell_type": "code",
      "execution_count": null,
      "metadata": {
        "id": "Slx1iL-Ll-Im"
      },
      "outputs": [],
      "source": [
        "import numpy as np\n",
        "import matplotlib.pyplot as plt\n",
        "from matplotlib import rc"
      ]
    },
    {
      "cell_type": "code",
      "execution_count": null,
      "metadata": {
        "id": "Wf4WFZyrl-Io"
      },
      "outputs": [],
      "source": [
        "# Configure Matplotlib to use LaTeX\n",
        "rc('font', **{'family': 'serif', 'serif': ['Computer Modern']})\n",
        "rc('text', usetex=True)\n",
        "plt.rcParams.update({'font.size': 18})"
      ]
    },
    {
      "cell_type": "code",
      "execution_count": null,
      "metadata": {
        "id": "vJm_3OGOl-Io"
      },
      "outputs": [],
      "source": [
        "def subG_css(trSigma, lambdamax, n, r):\n",
        "    \"\"\"\n",
        "    Width of sub-Gaussian CSS. See Theorem 1\n",
        "    \"\"\"\n",
        "\n",
        "    beta = np.sqrt(2*trSigma*r / lambdamax)\n",
        "    lambda_num = beta + 2*r\n",
        "\n",
        "    lambda_sum = 0\n",
        "    lambda2_sum = 0\n",
        "\n",
        "    widths = []\n",
        "    for t in range(1, n):\n",
        "        lambda_denom = (lambdamax + trSigma/beta)*t*np.log(t+10e4)\n",
        "        lambdat =  np.sqrt(lambda_num / lambda_denom)\n",
        "        lambda_sum += lambdat\n",
        "        lambda2_sum += lambdat**2/2\n",
        "\n",
        "        width_num = lambda2_sum*(lambdamax + trSigma/beta) + beta/2 + r\n",
        "        width_denom = lambda_sum\n",
        "        widths.append(width_num / width_denom)\n",
        "\n",
        "    return widths\n",
        "\n",
        "def Hsu_n(trSigma, trSigma2, lambdamax, n, r):\n",
        "    \"\"\"\n",
        "    Compute width of Hsu's confidence region for n observations.\n",
        "    \"\"\"\n",
        "\n",
        "    s = trSigma + 2*lambdamax*r + 2*np.sqrt(trSigma2*r)\n",
        "    return np.sqrt(s/n)\n",
        "\n",
        "\n",
        "def Hsu_doubling(trSigma, trSigma2, lambdamax, n, r):\n",
        "    \"\"\"\n",
        "    Compute width of Hsu's confidence region using\n",
        "    Duchi and Haque doubling trick.\n",
        "    \"\"\"\n",
        "\n",
        "    widths = []\n",
        "    for t in range(1, n):\n",
        "        # if t is a power of 2\n",
        "        if (t & (t-1)) == 0:\n",
        "            stitch_count = np.log2(t) + 1\n",
        "            width = Hsu_n(trSigma, trSigma2, lambdamax, #t/2, r + 2*np.log(np.log2(t)) + 1/2)\n",
        "                          t, r + np.log(stitch_count**2) + np.log(np.pi**2/6))\n",
        "            widths.append(width)\n",
        "        else:\n",
        "            widths.append(widths[-1])\n",
        "\n",
        "    return widths\n",
        "\n",
        "def Hsu_union_bound(trSigma, trSigma2, lambdamax, n, r):\n",
        "    \"\"\"\n",
        "    Compute width of Hsu's confidence region using\n",
        "    naive union bound.\n",
        "    \"\"\"\n",
        "\n",
        "    widths = []\n",
        "    for t in range(1, n):\n",
        "        width = Hsu_n(trSigma, trSigma2, lambdamax, t, r + np.log(t*(t+1)))\n",
        "                      #r + 2*np.log(t) + np.log(np.pi**2/6))\n",
        "        widths.append(width)\n",
        "\n",
        "    return widths\n",
        "\n",
        "\n",
        "def stitched_css(trSigma, lambdamax, n, r):\n",
        "    \"\"\"\n",
        "    Compute width of stitched CSS.\n",
        "    \"\"\"\n",
        "    widths = []\n",
        "\n",
        "    for t in range(1, n):\n",
        "\n",
        "        term1 = 1.21 * np.sqrt(trSigma/t)\n",
        "        term2 = 1.682*np.sqrt(lambdamax*(r + np.log(1.65) + np.log(np.log2(t) + 1)) / t)\n",
        "\n",
        "        widths.append(term1 + term2)\n",
        "\n",
        "    return widths\n"
      ]
    },
    {
      "cell_type": "code",
      "execution_count": null,
      "metadata": {
        "colab": {
          "base_uri": "https://localhost:8080/",
          "height": 474
        },
        "id": "KREMJ-yEl-Ip",
        "outputId": "f675943f-f976-4a70-a2cd-51648c43ce92"
      },
      "outputs": [],
      "source": [
        "alpha = 0.05\n",
        "n = 100000\n",
        "\n",
        "start = 150\n",
        "\n",
        "TrSigma = 1\n",
        "TrSigma2 = 1\n",
        "\n",
        "css = subG_css(TrSigma, 1, n, np.log(1/alpha))\n",
        "stitched = stitched_css(TrSigma, 1, n, np.log(1/alpha))\n",
        "stitched_hsu = Hsu_doubling(TrSigma, TrSigma2, 1, n, np.log(1/alpha))\n",
        "hsu_union = Hsu_union_bound(TrSigma, TrSigma2, 1, n, np.log(1/alpha))\n",
        "\n",
        "\n",
        "plt.plot(css[start:], label='Theorem 1', c='blue')\n",
        "plt.plot(stitched[start:], label='Theorem 2', ls='-', c='green')\n",
        "plt.plot(stitched_hsu[start:], label='Hsu et al. w/ doubling', ls='-.', c='purple')\n",
        "plt.plot(hsu_union[start:], label='Hsu et al. w/ union bound', ls='--', c='orange')\n",
        "\n",
        "\n",
        "plt.legend(fontsize=14)\n",
        "plt.yscale('log')\n",
        "plt.ylabel('CSS width')\n",
        "plt.xlabel('$t$')\n",
        "plt.yticks([10**-1.5, 10**-1, 10**0])\n",
        "\n",
        "# plt.savefig('figures/subG.png', dpi=300, bbox_inches='tight')\n",
        "\n",
        "# This produces the LHS of Fig 1 in the paper.\n",
        "\n"
      ]
    },
    {
      "cell_type": "code",
      "execution_count": null,
      "metadata": {
        "colab": {
          "base_uri": "https://localhost:8080/",
          "height": 466
        },
        "id": "Qyx7YXrnl-Iq",
        "outputId": "c00df118-d49f-4e90-d6cb-0831169b8ef7"
      },
      "outputs": [],
      "source": [
        "alpha = 0.05\n",
        "n = 100000\n",
        "start = 150\n",
        "\n",
        "stitched = stitched_css(10, 1, n, np.log(1/alpha))\n",
        "\n",
        "stitched_hsu_lim = Hsu_doubling(10, 0.001, 1, n, np.log(1/alpha))\n",
        "stitched_Hsu_p1 = Hsu_doubling(10, 0.1, 1, n, np.log(1/alpha))\n",
        "stitched_hsu_1 = Hsu_doubling(10, 1, 1, n, np.log(1/alpha))\n",
        "stitched_hsu_5 = Hsu_doubling(10, 5, 1, n, np.log(1/alpha))\n",
        "stitched_hsu_10 = Hsu_doubling(10, 10, 1, n, np.log(1/alpha))\n",
        "\n",
        "\n",
        "plt.plot(stitched[start:], label='Theorem 2', ls=':', c='green')\n",
        "#plt.plot(stitched_Hsu_p1[start:], label='Hsu et al. w/ doubling, Tr($\\Sigma^2)= $Tr($\\Sigma)/100$', ls='-', c='lightgray')\n",
        "plt.plot(stitched_hsu_10[start:], label='Hsu et al. w/ doubling, Tr($\\Sigma^2)= $Tr($\\Sigma)$', ls='-', c='black')\n",
        "plt.plot(stitched_hsu_5[start:], label='Hsu et al. w/ doubling, Tr($\\Sigma^2)= $Tr($\\Sigma)/2$', ls='-', c='gray')\n",
        "plt.plot(stitched_hsu_1[start:], label='Hsu et al. w/ doubling, Tr($\\Sigma^2)= $Tr($\\Sigma)/10$', ls='-', c='darkgray')\n",
        "plt.plot(stitched_hsu_lim[start:], label='Hsu et al. w/ doubling, Tr($\\Sigma^2) \\\\approx 0$', ls=':', c='purple')\n",
        "\n",
        "\n",
        "plt.yscale('log')\n",
        "plt.legend(fontsize=14)\n",
        "plt.ylabel('CSS width')\n",
        "plt.xlabel('$t$')\n",
        "plt.yticks([10**-1.5, 10**-1, 10**0, 10**0.5])\n",
        "\n",
        "# plt.savefig('figures/subG_doubling.png', dpi=300, bbox_inches='tight')\n",
        "\n",
        "# This produces the RHS of Fig 1 in the paper.\n",
        "\n"
      ]
    }
  ],
  "metadata": {
    "colab": {
      "provenance": []
    },
    "kernelspec": {
      "display_name": "playground",
      "language": "python",
      "name": "python3"
    },
    "language_info": {
      "codemirror_mode": {
        "name": "ipython",
        "version": 3
      },
      "file_extension": ".py",
      "mimetype": "text/x-python",
      "name": "python",
      "nbconvert_exporter": "python",
      "pygments_lexer": "ipython3",
      "version": "3.9.12"
    }
  },
  "nbformat": 4,
  "nbformat_minor": 0
}

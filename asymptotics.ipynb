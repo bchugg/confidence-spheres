{
 "cells": [
  {
   "cell_type": "code",
   "execution_count": 1,
   "id": "a74d7af7",
   "metadata": {},
   "outputs": [],
   "source": [
    "import numpy as np \n",
    "import matplotlib.pyplot as plt\n",
    "import scipy \n",
    "import pickle\n",
    "from scipy.linalg import norm\n",
    "from scipy.special import iv\n",
    "from scipy.stats import beta\n",
    "from tqdm.notebook import tqdm "
   ]
  },
  {
   "cell_type": "code",
   "execution_count": 2,
   "id": "11bd1873",
   "metadata": {},
   "outputs": [],
   "source": [
    "def A(d, kappa): \n",
    "    return iv(d/2, kappa) / iv(d/2-1, kappa)\n",
    "\n",
    "def gen_beta1_vec(d): \n",
    "    return (beta.rvs(10, 10, size=d)-1/2) / (4*d)\n",
    "\n",
    "def var_beta_vec(d): \n",
    "    \n",
    "    var_single = 100 / ((20)**2 * (21)) / (4 * d)**2\n",
    "    var_all = d * var_single \n",
    "    return var_all \n",
    "\n",
    "def psiE(x):\n",
    "    assert 0 < x < 1\n",
    "    return -x - np.log(1 - x)\n",
    "\n",
    "def lambd(i, alpha, sigma2, n): \n",
    "    \n",
    "    c = opt_c(alpha)\n",
    "    #c = 2\n",
    "    top =  c * np.log(1/alpha)\n",
    "    bottom = n * sigma2 \n",
    "    return min(np.sqrt(top / bottom), 0.5)\n",
    "\n",
    "def opt_c(alpha): \n",
    "    return 2 + 8/(3*np.log(1/alpha))\n",
    "    # return 8 + 32/(3 * np.log(1/alpha))\n",
    "\n",
    "def zeta(alpha): \n",
    "    \n",
    "    c = opt_c(alpha)\n",
    "    return np.sqrt(9/2 + 6/np.log(1/alpha))\n",
    "    return  3*np.sqrt(c) / 4 + 2 / (np.sqrt(c) * np.log(1/alpha)) + 3/(2 * np.sqrt(c))\n",
    "    #return  3*np.sqrt(c) / 16 + 2 / (np.sqrt(c) * np.log(1/alpha)) + 3/(2 * np.sqrt(c))\n",
    "\n",
    "def emp_bernstein(alpha, B, d, iters, gen_vec): \n",
    "\n",
    "    adk = A(d, np.sqrt(d))\n",
    "    \n",
    "    emp_mean_numerator = 1/2\n",
    "    running_numerator = 4*B*np.sqrt(d)*adk + 2*B*np.log(1/alpha)\n",
    "#    running_numerator = np.log(2/alpha)\n",
    "    running_denominator = 0\n",
    "\n",
    "    sigma_hat_top = 1/4\n",
    "\n",
    "    width = []\n",
    "    \n",
    "    for i in range(1,int(iters)): \n",
    "\n",
    "        # Compute lambda \n",
    "        lmd = lambd(i, alpha, sigma_hat_top/i, iters)\n",
    "\n",
    "        # Get observations \n",
    "        newX = gen_vec(d)\n",
    "\n",
    "        # Update width \n",
    "        running_numerator += (psiE(lmd) / (2*B)) * (norm(newX - emp_mean_numerator / i))**2\n",
    "        running_denominator += adk*lmd\n",
    "        \n",
    "        width.append(min(running_numerator/running_denominator, 1))\n",
    "        \n",
    "        # Update sigma and empirical mean \n",
    "        emp_mean_numerator += newX \n",
    "        sigma_hat_top += norm(newX - (emp_mean_numerator / (i+1)))**2\n",
    "        \n",
    "    return width \n",
    "\n",
    "\n"
   ]
  },
  {
   "cell_type": "code",
   "execution_count": 6,
   "id": "1b6b303d",
   "metadata": {},
   "outputs": [
    {
     "data": {
      "application/vnd.jupyter.widget-view+json": {
       "model_id": "6ce7c1a6f7f645199fd1e166d43b4bd4",
       "version_major": 2,
       "version_minor": 0
      },
      "text/plain": [
       "  0%|          | 0/19 [00:00<?, ?it/s]"
      ]
     },
     "metadata": {},
     "output_type": "display_data"
    }
   ],
   "source": [
    "d = 2 \n",
    "alpha = 0.01 \n",
    "widths = []\n",
    "for n in tqdm(np.linspace(1000, 10e4, 19)): \n",
    "    width = emp_bernstein(alpha, 1/2, d, n, gen_beta1_vec)\n",
    "    widths.append(width[-1])\n",
    "    \n"
   ]
  },
  {
   "cell_type": "code",
   "execution_count": 32,
   "metadata": {},
   "outputs": [],
   "source": [
    "from matplotlib import rc\n",
    "\n",
    "# Configure Matplotlib to use LaTeX\n",
    "rc('font', **{'family': 'serif', 'serif': ['Computer Modern']})\n",
    "rc('text', usetex=True)\n",
    "plt.rcParams.update({'font.size': 18})\n",
    "# Use latex font "
   ]
  },
  {
   "cell_type": "code",
   "execution_count": 33,
   "metadata": {},
   "outputs": [
    {
     "data": {
      "image/png": "[encoded data removed]",
      "text/plain": [
       "<Figure size 432x288 with 1 Axes>"
      ]
     },
     "metadata": {
      "needs_background": "light"
     },
     "output_type": "display_data"
    }
   ],
   "source": [
    "ns = np.linspace(1000, 10e4, 19)[:-2]\n",
    "plt.plot(np.linspace(1000, 10e4, 19)[:-2], np.sqrt(ns)*np.array(widths)[:-2], 'o', label='$W_n$', ms=10)\n",
    "asymp_width_eb = zeta(alpha) * np.sqrt(var_beta_vec(d) * d * np.log(1/alpha))\n",
    "plt.axhline(asymp_width_eb, color='k', ls='--', lw=3, label='$W_\\infty$')\n",
    "plt.yscale('log')\n",
    "plt.legend()\n",
    "plt.xlabel('$n$', fontsize=16)\n",
    "plt.ylabel('Width', fontsize=16)\n",
    "plt.title('Empirical Bernstein Width')\n",
    "plt.savefig('eb_width.png', bbox_inches='tight', dpi=300)"
   ]
  }
 ],
 "metadata": {
  "kernelspec": {
   "display_name": "playground",
   "language": "python",
   "name": "python3"
  },
  "language_info": {
   "codemirror_mode": {
    "name": "ipython",
    "version": 3
   },
   "file_extension": ".py",
   "mimetype": "text/x-python",
   "name": "python",
   "nbconvert_exporter": "python",
   "pygments_lexer": "ipython3",
   "version": "3.9.12"
  }
 },
 "nbformat": 4,
 "nbformat_minor": 5
}

{
 "cells": [
  {
   "cell_type": "code",
   "execution_count": 1,
   "id": "a74d7af7",
   "metadata": {},
   "outputs": [],
   "source": [
    "import numpy as np \n",
    "import matplotlib.pyplot as plt\n",
    "import scipy \n",
    "import pickle\n",
    "from scipy.linalg import norm\n",
    "from scipy.special import iv\n",
    "from scipy.stats import beta\n",
    "from tqdm.notebook import tqdm "
   ]
  },
  {
   "cell_type": "code",
   "execution_count": 55,
   "id": "6faebbba",
   "metadata": {},
   "outputs": [
    {
     "data": {
      "text/plain": [
       "array([ 0.09866416, -0.04442639, -0.1439286 ,  0.09230213, -0.01416403,\n",
       "       -0.01835161, -0.06439195, -0.0155118 ,  0.04572333, -0.16847991])"
      ]
     },
     "execution_count": 55,
     "metadata": {},
     "output_type": "execute_result"
    }
   ],
   "source": [
    "beta.rvs(10, 10, size=10) - 1/2"
   ]
  },
  {
   "cell_type": "code",
   "execution_count": 95,
   "id": "ad48f40e",
   "metadata": {},
   "outputs": [
    {
     "data": {
      "text/plain": [
       "1.0"
      ]
     },
     "execution_count": 95,
     "metadata": {},
     "output_type": "execute_result"
    }
   ],
   "source": [
    "np.log(np.exp(1))"
   ]
  },
  {
   "cell_type": "code",
   "execution_count": 161,
   "id": "11bd1873",
   "metadata": {},
   "outputs": [],
   "source": [
    "def A(d, kappa): \n",
    "    return iv(d/2, kappa) / iv(d/2-1, kappa)\n",
    "\n",
    "def gen_beta1_vec(d): \n",
    "    return (beta.rvs(10, 10, size=d)-1/2) / (4*d)\n",
    "\n",
    "def var_beta_vec(d): \n",
    "    \n",
    "    var_single = 100 / ((20)**2 * (21)) / (4 * d)**2\n",
    "    var_all = d * var_single \n",
    "    return var_all \n",
    "\n",
    "def psiE(x):\n",
    "    assert 0 < x < 1\n",
    "    return -x - np.log(1 - x)\n",
    "\n",
    "def lambd(i, alpha, sigma2, n): \n",
    "    \n",
    "    c = opt_c(alpha)\n",
    "    #c = 2\n",
    "    top =  c * np.log(1/alpha)\n",
    "    bottom = n * sigma2 \n",
    "    return min(np.sqrt(top / bottom), 0.5)\n",
    "\n",
    "def opt_c(alpha): \n",
    "    return 2 + 8/(3*np.log(1/alpha))\n",
    "    # return 8 + 32/(3 * np.log(1/alpha))\n",
    "\n",
    "def zeta(alpha): \n",
    "    \n",
    "    c = opt_c(alpha)\n",
    "    return np.sqrt(9/2 + 6/np.log(1/alpha))\n",
    "    return  3*np.sqrt(c) / 4 + 2 / (np.sqrt(c) * np.log(1/alpha)) + 3/(2 * np.sqrt(c))\n",
    "    #return  3*np.sqrt(c) / 16 + 2 / (np.sqrt(c) * np.log(1/alpha)) + 3/(2 * np.sqrt(c))\n",
    "\n",
    "def emp_bernstein(alpha, B, d, iters, gen_vec): \n",
    "\n",
    "    adk = A(d, np.sqrt(d))\n",
    "    \n",
    "    emp_mean_numerator = 1/2\n",
    "    running_numerator = 4*B*np.sqrt(d)*adk + 2*B*np.log(1/alpha)\n",
    "#    running_numerator = np.log(2/alpha)\n",
    "    running_denominator = 0\n",
    "\n",
    "    sigma_hat_top = 1/4\n",
    "\n",
    "    width = []\n",
    "    \n",
    "    for i in range(1,int(iters)): \n",
    "\n",
    "        # Compute lambda \n",
    "        lmd = lambd(i, alpha, sigma_hat_top/i, iters)\n",
    "\n",
    "        # Get observations \n",
    "        newX = gen_vec(d)\n",
    "\n",
    "        # Update width \n",
    "        running_numerator += (psiE(lmd) / (2*B)) * (norm(newX - emp_mean_numerator / i))**2\n",
    "        running_denominator += adk*lmd\n",
    "        \n",
    "        width.append(min(running_numerator/running_denominator, 1))\n",
    "        \n",
    "        # Update sigma and empirical mean \n",
    "        emp_mean_numerator += newX \n",
    "        sigma_hat_top += norm(newX - (emp_mean_numerator / (i+1)))**2\n",
    "        \n",
    "    return width \n",
    "\n",
    "\n",
    "def terms(alpha, B, d, iters, gen_vec): \n",
    "    \n",
    "\n",
    "    emp_mean_numerator = 1/2\n",
    "    sigma_hat_top = 1/4\n",
    "\n",
    "    t2, t3 = 0, 0\n",
    "    \n",
    "    for i in range(1,int(iters)): \n",
    "\n",
    "        # Compute lambda \n",
    "        lmd = lambd(i, alpha, sigma_hat_top/i, iters)\n",
    "        t3 += lmd\n",
    "\n",
    "        # Get observations \n",
    "        newX = gen_vec(d)\n",
    "\n",
    "        # Update width \n",
    "        t2 += psiE(lmd) * (norm(newX - emp_mean_numerator / i))**2\n",
    "        \n",
    "        \n",
    "        # Update sigma and empirical mean \n",
    "        emp_mean_numerator += newX \n",
    "        sigma_hat_top += norm(newX - (emp_mean_numerator / (i+1)))**2\n",
    "        \n",
    "    t1 = sigma_hat_top / int(iters)\n",
    "    t3 = t3 / np.sqrt(int(iters))\n",
    "    return t1, t2, t3    \n",
    "    \n"
   ]
  },
  {
   "cell_type": "code",
   "execution_count": 173,
   "id": "e00f7cd6",
   "metadata": {},
   "outputs": [
    {
     "name": "stdout",
     "output_type": "stream",
     "text": [
      "[  50000.  600000. 1150000. 1700000. 2250000. 2800000. 3350000. 3900000.\n",
      " 4450000. 5000000.]\n",
      "\n"
     ]
    },
    {
     "data": {
      "text/plain": [
       "[<matplotlib.lines.Line2D at 0x7f8cb76e4a00>]"
      ]
     },
     "execution_count": 173,
     "metadata": {},
     "output_type": "execute_result"
    },
    {
     "data": {
      "image/png": "[encoded data removed]",
      "text/plain": [
       "<Figure size 432x288 with 1 Axes>"
      ]
     },
     "metadata": {
      "needs_background": "light"
     },
     "output_type": "display_data"
    }
   ],
   "source": [
    "print(np.linspace(5*10e3, 5*10e5, 10))\n",
    "print()\n",
    "\n",
    "\n",
    "plt.plot(np.linspace(5*10e3, 5*10e5, 5), np.linspace(5*10e3, 5*10e5, 5), 'o')\n",
    "plt.plot(np.linspace(5*10e5, 5*10e6, 5), np.linspace(5*10e5, 5*10e6, 5), 'o')"
   ]
  },
  {
   "cell_type": "code",
   "execution_count": 175,
   "id": "1b6b303d",
   "metadata": {},
   "outputs": [
    {
     "data": {
      "application/vnd.jupyter.widget-view+json": {
       "model_id": "eb32f793d0674ebeba91ebeec7daa5ff",
       "version_major": 2,
       "version_minor": 0
      },
      "text/plain": [
       "  0%|          | 0/4 [00:00<?, ?it/s]"
      ]
     },
     "metadata": {},
     "output_type": "display_data"
    }
   ],
   "source": [
    "d = 2 \n",
    "alpha = 0.01 \n",
    "widths = []\n",
    "for n in tqdm(np.linspace(5*10e4, 5*10e5, 5)[:-1]): \n",
    "    width = emp_bernstein(alpha, 1/2, d, n, gen_beta1_vec)\n",
    "    widths.append(width[-1])\n"
   ]
  },
  {
   "cell_type": "code",
   "execution_count": 120,
   "id": "6bde60b0",
   "metadata": {},
   "outputs": [],
   "source": [
    "def multiplier(alpha): \n",
    "    \n",
    "    c = opt_c(alpha)\n",
    "    \n",
    "    adk = A(d, np.sqrt(d))\n",
    "    la = np.log(1/alpha)\n",
    "    \n",
    "    x1 = np.sqrt(np.sqrt(c) * la) / (8 * adk)\n",
    "    x2 = 2 * np.sqrt(d) / np.sqrt(c * la)\n",
    "    x3 = np.sqrt(la) / (adk * np.sqrt(c))\n",
    "    \n",
    "    return x1 + x2 + x3"
   ]
  },
  {
   "cell_type": "code",
   "execution_count": 176,
   "id": "5ed59ca5",
   "metadata": {},
   "outputs": [],
   "source": [
    "with open('widths_510e4_510e5.p', 'wb') as f: \n",
    "    pickle.dump(widths, f)"
   ]
  },
  {
   "cell_type": "code",
   "execution_count": 137,
   "id": "1eb22439",
   "metadata": {},
   "outputs": [
    {
     "data": {
      "text/plain": [
       "2.337513229354232"
      ]
     },
     "execution_count": 137,
     "metadata": {},
     "output_type": "execute_result"
    }
   ],
   "source": [
    "min(np.sqrt(ns) * np.array(widths))/asymp_width_eb"
   ]
  },
  {
   "cell_type": "code",
   "execution_count": 138,
   "id": "03496610",
   "metadata": {},
   "outputs": [],
   "source": [
    "big_width = emp_bernstein(alpha, 1/2, d, 10e7, gen_beta1_vec)"
   ]
  },
  {
   "cell_type": "code",
   "execution_count": 142,
   "id": "b88f6333",
   "metadata": {},
   "outputs": [
    {
     "data": {
      "text/plain": [
       "2.3185655946813055"
      ]
     },
     "execution_count": 142,
     "metadata": {},
     "output_type": "execute_result"
    }
   ],
   "source": [
    "big_width[-1] * np.sqrt(10e7) / asymp_width_eb"
   ]
  },
  {
   "cell_type": "code",
   "execution_count": 164,
   "id": "5624865f",
   "metadata": {},
   "outputs": [
    {
     "data": {
      "text/plain": [
       "0.01"
      ]
     },
     "execution_count": 164,
     "metadata": {},
     "output_type": "execute_result"
    }
   ],
   "source": [
    "zeta(alpha)"
   ]
  },
  {
   "cell_type": "code",
   "execution_count": 178,
   "id": "dc799b15",
   "metadata": {},
   "outputs": [
    {
     "data": {
      "text/plain": [
       "array([0.13048925, 0.12465061, 0.12311729, 0.12236382])"
      ]
     },
     "execution_count": 178,
     "metadata": {},
     "output_type": "execute_result"
    }
   ],
   "source": [
    "np.sqrt(ns) * np.array(widths)"
   ]
  },
  {
   "cell_type": "code",
   "execution_count": 179,
   "id": "7fa71df0",
   "metadata": {},
   "outputs": [
    {
     "data": {
      "text/plain": [
       "Text(0.5, 0, 'Sample size')"
      ]
     },
     "execution_count": 179,
     "metadata": {},
     "output_type": "execute_result"
    },
    {
     "data": {
      "image/png": "[encoded data removed]",
      "text/plain": [
       "<Figure size 432x288 with 1 Axes>"
      ]
     },
     "metadata": {
      "needs_background": "light"
     },
     "output_type": "display_data"
    }
   ],
   "source": [
    "ns = np.linspace(5*10e4, 5*10e5, 5)[:-1]\n",
    "plt.plot(ns, np.sqrt(ns) * np.array(widths), 'o', label='$\\sqrt{n} W_n$')\n",
    "\n",
    "\n",
    "asymp_width_eb = zeta(alpha) * np.sqrt(var_beta_vec(d) * d * np.log(1/alpha))\n",
    "plt.axhline(asymp_width_eb, color='k', ls='--', label='Asymp. Width. EB (Ours)')\n",
    "asymp_width_bern = np.sqrt(var_beta_vec(d) * 8*(np.log(2/alpha) + 1/4))\n",
    "plt.axhline(y=asymp_width_bern, label='Asymp. Width. Bernstein', ls='--')\n",
    "plt.legend()\n",
    "plt.xlabel('Sample size')"
   ]
  },
  {
   "cell_type": "code",
   "execution_count": 117,
   "id": "f1487f2f",
   "metadata": {},
   "outputs": [
    {
     "data": {
      "application/vnd.jupyter.widget-view+json": {
       "model_id": "dce2b369b7ac4c568da9ca9658eced51",
       "version_major": 2,
       "version_minor": 0
      },
      "text/plain": [
       "  0%|          | 0/5 [00:00<?, ?it/s]"
      ]
     },
     "metadata": {},
     "output_type": "display_data"
    }
   ],
   "source": [
    "d = 2\n",
    "alpha = 0.01\n",
    "t1, t2, t3 = [], [], []\n",
    "for n in tqdm(np.linspace(5*10e4, 5*10e5, 5)): \n",
    "    res1, res2, res3 = terms(alpha, 1/2, d, n, gen_beta1_vec)\n",
    "    t1.append(res1)\n",
    "    t2.append(res2)\n",
    "    t3.append(res3)"
   ]
  },
  {
   "cell_type": "code",
   "execution_count": 97,
   "id": "404528e8",
   "metadata": {},
   "outputs": [
    {
     "data": {
      "text/plain": [
       "[<matplotlib.lines.Line2D at 0x7f8e59a93df0>]"
      ]
     },
     "execution_count": 97,
     "metadata": {},
     "output_type": "execute_result"
    },
    {
     "data": {
      "image/png": "[encoded data removed]",
      "text/plain": [
       "<Figure size 432x288 with 1 Axes>"
      ]
     },
     "metadata": {
      "needs_background": "light"
     },
     "output_type": "display_data"
    }
   ],
   "source": [
    "\n",
    "\n",
    "plt.plot(range(len(t1)), np.abs(np.array(t1) - var_beta_vec(d)))\n",
    "# plt.axhline(var_beta_vec(d))"
   ]
  },
  {
   "cell_type": "code",
   "execution_count": 98,
   "id": "b3ebc4e7",
   "metadata": {},
   "outputs": [
    {
     "data": {
      "text/plain": [
       "[<matplotlib.lines.Line2D at 0x7f8e5a4b4a00>]"
      ]
     },
     "execution_count": 98,
     "metadata": {},
     "output_type": "execute_result"
    },
    {
     "data": {
      "image/png": "[encoded data removed]",
      "text/plain": [
       "<Figure size 432x288 with 1 Axes>"
      ]
     },
     "metadata": {
      "needs_background": "light"
     },
     "output_type": "display_data"
    }
   ],
   "source": [
    "plt.plot(range(len(t2)), t2, 'o')\n",
    "# plt.axhline(opt_c(alpha)/8 * np.log(1/alpha))\n",
    "#plt.axhline(np.log(2/alpha))"
   ]
  },
  {
   "cell_type": "code",
   "execution_count": 99,
   "id": "437049e7",
   "metadata": {},
   "outputs": [
    {
     "data": {
      "text/plain": [
       "<matplotlib.lines.Line2D at 0x7f8e582ea550>"
      ]
     },
     "execution_count": 99,
     "metadata": {},
     "output_type": "execute_result"
    },
    {
     "data": {
      "image/png": "[encoded data removed]",
      "text/plain": [
       "<Figure size 432x288 with 1 Axes>"
      ]
     },
     "metadata": {
      "needs_background": "light"
     },
     "output_type": "display_data"
    }
   ],
   "source": [
    "plt.plot(range(len(t3)), t3, 'o')\n",
    "plt.axhline(np.sqrt(opt_c(alpha) * np.log(1/alpha) / var_beta_vec(d)))"
   ]
  },
  {
   "cell_type": "code",
   "execution_count": 100,
   "id": "f3e9b9bd",
   "metadata": {},
   "outputs": [
    {
     "data": {
      "text/plain": [
       "[<matplotlib.lines.Line2D at 0x7f8e57483070>]"
      ]
     },
     "execution_count": 100,
     "metadata": {},
     "output_type": "execute_result"
    },
    {
     "data": {
      "image/png": "[encoded data removed]",
      "text/plain": [
       "<Figure size 432x288 with 1 Axes>"
      ]
     },
     "metadata": {
      "needs_background": "light"
     },
     "output_type": "display_data"
    }
   ],
   "source": [
    "w = [(np.log(2/alpha) + x)/y for x, y in zip(t2, t3)]\n",
    "plt.plot(range(len(w)), w)"
   ]
  },
  {
   "cell_type": "code",
   "execution_count": 7,
   "id": "e0c6c463",
   "metadata": {},
   "outputs": [
    {
     "data": {
      "application/vnd.jupyter.widget-view+json": {
       "model_id": "d9aa53f2161f4b07b570964cdba0d19c",
       "version_major": 2,
       "version_minor": 0
      },
      "text/plain": [
       "  0%|          | 0/9 [00:00<?, ?it/s]"
      ]
     },
     "metadata": {},
     "output_type": "display_data"
    }
   ],
   "source": [
    "widths = []\n",
    "for n in tqdm(np.linspace(10e4 + 100000, 10e5, 9)): \n",
    "    res = emp_bernstein(alpha, 1/2, d, n, gen_beta1_vec)\n",
    "    widths.append(res[-1])\n",
    "    "
   ]
  },
  {
   "cell_type": "code",
   "execution_count": 82,
   "id": "4ac29346",
   "metadata": {},
   "outputs": [],
   "source": [
    "with open('widths_1000_10e4_1000.p', 'wb') as f: \n",
    "    pickle.dump(widths, f)"
   ]
  },
  {
   "cell_type": "code",
   "execution_count": 9,
   "id": "87d78847",
   "metadata": {},
   "outputs": [],
   "source": [
    "with open('widths_10e4_10e5_100000.p', 'wb') as f: \n",
    "    pickle.dump(widths, f)"
   ]
  },
  {
   "cell_type": "code",
   "execution_count": 3,
   "id": "e339c7a3",
   "metadata": {},
   "outputs": [
    {
     "ename": "FileNotFoundError",
     "evalue": "[Errno 2] No such file or directory: 'widths_10e4_10e5_100000.p'",
     "output_type": "error",
     "traceback": [
      "\u001b[0;31m---------------------------------------------------------------------------\u001b[0m",
      "\u001b[0;31mFileNotFoundError\u001b[0m                         Traceback (most recent call last)",
      "Input \u001b[0;32mIn [3]\u001b[0m, in \u001b[0;36m<cell line: 1>\u001b[0;34m()\u001b[0m\n\u001b[0;32m----> 1\u001b[0m \u001b[38;5;28;01mwith\u001b[39;00m \u001b[38;5;28;43mopen\u001b[39;49m\u001b[43m(\u001b[49m\u001b[38;5;124;43m'\u001b[39;49m\u001b[38;5;124;43mwidths_10e4_10e5_100000.p\u001b[39;49m\u001b[38;5;124;43m'\u001b[39;49m\u001b[43m,\u001b[49m\u001b[43m \u001b[49m\u001b[38;5;124;43m'\u001b[39;49m\u001b[38;5;124;43mrb\u001b[39;49m\u001b[38;5;124;43m'\u001b[39;49m\u001b[43m)\u001b[49m \u001b[38;5;28;01mas\u001b[39;00m f: \n\u001b[1;32m      2\u001b[0m     widths \u001b[38;5;241m=\u001b[39m pickle\u001b[38;5;241m.\u001b[39mload(f)\n",
      "\u001b[0;31mFileNotFoundError\u001b[0m: [Errno 2] No such file or directory: 'widths_10e4_10e5_100000.p'"
     ]
    }
   ],
   "source": [
    "with open('widths_10e4_10e5_100000.p', 'rb') as f: \n",
    "    widths = pickle.load(f)"
   ]
  },
  {
   "cell_type": "code",
   "execution_count": 8,
   "id": "34f0031e",
   "metadata": {},
   "outputs": [
    {
     "data": {
      "text/plain": [
       "<matplotlib.legend.Legend at 0x7f8e72428e80>"
      ]
     },
     "execution_count": 8,
     "metadata": {},
     "output_type": "execute_result"
    },
    {
     "data": {
      "image/png": "[encoded data removed]",
      "text/plain": [
       "<Figure size 432x288 with 1 Axes>"
      ]
     },
     "metadata": {
      "needs_background": "light"
     },
     "output_type": "display_data"
    }
   ],
   "source": [
    "# ns = np.linspace(1000, 10e4, int(10e4/1000))# np.arange(len(widths)) * 1000\n",
    "ns = np.linspace(10e4 + 100000, 10e5, 9)\n",
    "plt.plot(ns, np.array(widths) * np.sqrt(ns), 'o')\n",
    "asymp_width_bs =  zeta(alpha) * np.sqrt(var_beta_vec(d) * d * np.log(1/alpha))\n",
    "plt.axhline(y=asymp_width_bs, label='Asymp. Width. BS')\n",
    "asymp_width_bern = np.sqrt(var_beta_vec(d) * 8*(np.log(1/alpha) + 1/4))\n",
    "plt.axhline(y=asymp_width_bern, label='Asymp. Width. Bernstein')\n",
    "plt.xscale('log')\n",
    "plt.legend()"
   ]
  },
  {
   "cell_type": "code",
   "execution_count": 6,
   "id": "531df607",
   "metadata": {},
   "outputs": [],
   "source": [
    "d = 10\n",
    "alpha = 0.01\n",
    "# width_bs = emp_bernstein(alpha, 1/2, d, 10e5, gen_beta1_vec)"
   ]
  },
  {
   "cell_type": "code",
   "execution_count": 59,
   "id": "fdf29370",
   "metadata": {},
   "outputs": [
    {
     "data": {
      "text/plain": [
       "0.665376593037442"
      ]
     },
     "execution_count": 59,
     "metadata": {},
     "output_type": "execute_result"
    }
   ],
   "source": [
    "zeta(alpha)"
   ]
  },
  {
   "cell_type": "code",
   "execution_count": 60,
   "id": "f4a7434a",
   "metadata": {},
   "outputs": [
    {
     "data": {
      "text/plain": [
       "<matplotlib.legend.Legend at 0x7fde1a14b130>"
      ]
     },
     "execution_count": 60,
     "metadata": {},
     "output_type": "execute_result"
    },
    {
     "data": {
      "image/png": "[encoded data removed]",
      "text/plain": [
       "<Figure size 432x288 with 1 Axes>"
      ]
     },
     "metadata": {
      "needs_background": "light"
     },
     "output_type": "display_data"
    }
   ],
   "source": [
    "nwidth_bs = np.sqrt(np.arange(1, len(width_bs)+1)) * np.array(width_bs)\n",
    "nwidth_bs = nwidth_bs[200:] # First 200 points are gross \n",
    "plt.plot(range(len(nwidth_bs)), nwidth_bs)\n",
    "\n",
    "\n",
    "asymp_width_bs =  zeta(alpha) * np.sqrt(var_beta_vec(d) * d * np.log(1/alpha))\n",
    "plt.axhline(y=asymp_width_bs, label='Asymp. Width. BS')\n",
    "asymp_width_bern = np.sqrt(var_beta_vec(d) * 8*(np.log(1/alpha) + 1/4))\n",
    "plt.axhline(y=asymp_width_bern, label='Asymp. Width. Bernstein')\n",
    "plt.xscale('log')\n",
    "plt.yscale('log')\n",
    "\n",
    "\n",
    "plt.legend()"
   ]
  }
 ],
 "metadata": {
  "kernelspec": {
   "display_name": "Python 3 (ipykernel)",
   "language": "python",
   "name": "python3"
  },
  "language_info": {
   "codemirror_mode": {
    "name": "ipython",
    "version": 3
   },
   "file_extension": ".py",
   "mimetype": "text/x-python",
   "name": "python",
   "nbconvert_exporter": "python",
   "pygments_lexer": "ipython3",
   "version": "3.9.12"
  }
 },
 "nbformat": 4,
 "nbformat_minor": 5
}

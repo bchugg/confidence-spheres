{
 "cells": [
  {
   "cell_type": "code",
   "execution_count": 19,
   "id": "2d5cc4db",
   "metadata": {},
   "outputs": [],
   "source": [
    "import matplotlib.pyplot as plt \n",
    "import pandas\n",
    "import pickle\n",
    "import os \n",
    "import numpy as np "
   ]
  },
  {
   "cell_type": "code",
   "execution_count": 4,
   "id": "5240d858",
   "metadata": {},
   "outputs": [],
   "source": [
    "with open('terms_5*10e4_10e5.p', 'rb') as f: \n",
    "    terms = pickle.load(f)"
   ]
  },
  {
   "cell_type": "code",
   "execution_count": 7,
   "id": "64f166b2",
   "metadata": {},
   "outputs": [],
   "source": [
    "t1, t2, t3 = terms['t1'], terms['t2'], terms['t3']"
   ]
  },
  {
   "cell_type": "code",
   "execution_count": 25,
   "id": "d16b089e",
   "metadata": {},
   "outputs": [],
   "source": [
    "with open('widths_510e4_510e5.p', 'rb') as f: \n",
    "    widths1 = pickle.load(f)\n",
    "\n",
    "with open('widths_510e5_510e6.p', 'rb') as f: \n",
    "    widths2 = pickle.load(f)"
   ]
  },
  {
   "cell_type": "code",
   "execution_count": 26,
   "id": "6c8000f2",
   "metadata": {},
   "outputs": [],
   "source": [
    "widths = widths1 + widths2"
   ]
  },
  {
   "cell_type": "code",
   "execution_count": 27,
   "id": "d917e3da",
   "metadata": {},
   "outputs": [
    {
     "data": {
      "image/png": "[encoded data removed]",
      "text/plain": [
       "<Figure size 432x288 with 1 Axes>"
      ]
     },
     "metadata": {
      "needs_background": "light"
     },
     "output_type": "display_data"
    }
   ],
   "source": [
    "ns = np.append(np.linspace(5*10e4, 5*10e5, 5)[:-1], np.linspace(5*10e5, 5*10e6, 5))\n",
    "plt.plot(ns, np.sqrt(ns) * np.array(widths), 'o', label='$\\sqrt{n} W_n$')\n",
    "\n",
    "alpha = 0.01\n",
    "variance = 100 / ((20)**2 * (21)) / (4 * 2)**2 * 2\n",
    "asymp_width_eb = 2.40 * np.sqrt(variance * 2 * np.log(1/alpha))\n",
    "asymp_width_bern = np.sqrt(variance * 8*(np.log(1/alpha) + 1/4))\n",
    "\n",
    "plt.axhline(asymp_width_eb, color='k', ls='--', label='Asymp. Width. EB (Ours)')\n",
    "plt.axhline(y=asymp_width_bern, label='Asymp. Width. Bernstein', ls='--')\n",
    "plt.legend()\n",
    "plt.xlabel('Sample size')\n",
    "plt.xscale('log')"
   ]
  }
 ],
 "metadata": {
  "kernelspec": {
   "display_name": "Python 3 (ipykernel)",
   "language": "python",
   "name": "python3"
  },
  "language_info": {
   "codemirror_mode": {
    "name": "ipython",
    "version": 3
   },
   "file_extension": ".py",
   "mimetype": "text/x-python",
   "name": "python",
   "nbconvert_exporter": "python",
   "pygments_lexer": "ipython3",
   "version": "3.9.12"
  }
 },
 "nbformat": 4,
 "nbformat_minor": 5
}

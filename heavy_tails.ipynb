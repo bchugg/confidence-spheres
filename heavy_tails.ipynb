{
 "cells": [
  {
   "cell_type": "code",
   "execution_count": 1,
   "metadata": {},
   "outputs": [],
   "source": [
    "import numpy as np \n",
    "import matplotlib.pyplot as plt"
   ]
  },
  {
   "cell_type": "code",
   "execution_count": 1,
   "metadata": {},
   "outputs": [],
   "source": [
    "def geom_boundary(trSigma, alpha, iters):\n",
    "    widths = []\n",
    "    for i in range(1, iters): \n",
    "        alphat = alpha / (i + i**2)\n",
    "        width = 4*np.sqrt( trSigma*(8*np.log(1/alphat)+1)/i)\n",
    "        widths.append(width)\n",
    "    return widths\n",
    "\n",
    "def mom_boundary(trSigma, lambda_max, alpha, iters): \n",
    "\n",
    "    widths = []\n",
    "    for i in range(1, iters): \n",
    "\n",
    "        # alphat = alpha / (2*i*i)\n",
    "        alphat = alpha / (i + i**2)\n",
    "        # width = 4*np.sqrt(2 trSigma*(8*np.log(1/alphat)+1)/i)\n",
    "        t1 = 960*np.sqrt(trSigma/(i/2))\n",
    "        t2 = 240*np.sqrt(lambda_max * np.log(2/alphat) / i)\n",
    "        width = max(t1, t2)\n",
    "        widths.append(width)\n",
    "    return widths \n",
    "\n",
    "def mom_boundary_dh(trSigma, lambda_max, alpha, iters): \n",
    "\n",
    "    widths = []\n",
    "    for i in range(1, iters): \n",
    "\n",
    "        # check if i = 2^k for some k \n",
    "        if (i & (i-1)) == 0: \n",
    "            log_alphat = np.log(1/alpha) + 2*np.log(np.log2(i)) + 1/2\n",
    "            t1 = 960*np.sqrt(trSigma/(i/2))\n",
    "            t2 = 240*np.sqrt(lambda_max * (np.log(2) + log_alphat) / (i/2))\n",
    "            width = max(t1, t2)\n",
    "            widths.append(width)\n",
    "        else: \n",
    "            widths.append(widths[-1])\n",
    "                    \n",
    "    return widths\n",
    "\n",
    "def geom_boundary_dh(trSigma, alpha, iters):\n",
    "    widths = []\n",
    "    for i in range(1, iters): \n",
    "        if (i & (i-1)) == 0: \n",
    "            log_alphat = np.log(1/alpha) + 2*np.log(np.log2(i)) + 1/2\n",
    "            width = 4*np.sqrt( trSigma*(8*log_alphat+1)/(i/2))\n",
    "            widths.append(width)\n",
    "        else: \n",
    "            widths.append(widths[-1])\n",
    "    return widths\n",
    "\n",
    "def cat_boundary(trSigma, alpha, iters, d, beta=1): \n",
    "\n",
    "    top =  beta/2 + np.log(1/alpha)\n",
    "    bottom = 0 \n",
    "    widths = []\n",
    "    for i in range(1,iters): \n",
    "        #lambda_i = np.sqrt(np.log(1/alpha)/(d*i*np.log(i+1000)*15)) \n",
    "        lambda_i = np.sqrt(np.log(1/alpha)/(d*i*np.log(i+2000)*50)) \n",
    "        top += lambda_i**2 * np.sqrt(trSigma) * (2*np.exp(4) +1)\n",
    "        bottom += lambda_i\n",
    "        widths.append(top / bottom)\n",
    "\n",
    "    return widths\n",
    "\n"
   ]
  },
  {
   "cell_type": "code",
   "execution_count": 88,
   "metadata": {},
   "outputs": [
    {
     "name": "stderr",
     "output_type": "stream",
     "text": [
      "/var/folders/sz/2wd5h2r14jd0tbp7zpbm11_h0000gn/T/ipykernel_16615/3498241555.py:44: RuntimeWarning: divide by zero encountered in log\n",
      "  log_alphat = np.log(1/alpha) + 2*np.log(np.log2(i)) + 1/2\n",
      "/var/folders/sz/2wd5h2r14jd0tbp7zpbm11_h0000gn/T/ipykernel_16615/3498241555.py:45: RuntimeWarning: invalid value encountered in sqrt\n",
      "  width = 4*np.sqrt( trSigma*(8*log_alphat+1)/(i/2))\n",
      "/var/folders/sz/2wd5h2r14jd0tbp7zpbm11_h0000gn/T/ipykernel_16615/3498241555.py:30: RuntimeWarning: divide by zero encountered in log\n",
      "  log_alphat = np.log(1/alpha) + 2*np.log(np.log2(i)) + 1/2\n",
      "/var/folders/sz/2wd5h2r14jd0tbp7zpbm11_h0000gn/T/ipykernel_16615/3498241555.py:32: RuntimeWarning: invalid value encountered in sqrt\n",
      "  t2 = 240*np.sqrt(lambda_max * (np.log(2) + log_alphat) / (i/2))\n"
     ]
    }
   ],
   "source": [
    "# Normal RVs \n",
    "\n",
    "lambda_max = 1\n",
    "alpha = 0.05 \n",
    "iters = 100000 \n",
    "\n",
    "geom_width_d5 = geom_boundary(5, alpha, iters)\n",
    "geom_dh_width_d5 = geom_boundary_dh(5, alpha, iters)\n",
    "mom_widths_d5 = mom_boundary(5, lambda_max, alpha, iters)\n",
    "mom_dh_width_d5 = mom_boundary_dh(5, lambda_max, alpha, iters)\n",
    "cat_widths_d5 = cat_boundary(5, alpha, iters, 5)\n",
    "\n",
    "# mom_widths_d20 = mom_boundary(20, alpha, iters)\n",
    "# cat_widths_d20 = cat_boundary(20, alpha, iters, 20)\n",
    "\n",
    "# mom_widths_d100 = mom_boundary(100, alpha, iters)\n",
    "# cat_widths_d100 = cat_boundary(100, alpha, iters, 100)\n",
    "\n"
   ]
  },
  {
   "cell_type": "code",
   "execution_count": 10,
   "metadata": {},
   "outputs": [],
   "source": [
    "from matplotlib import rc\n",
    "\n",
    "# Configure Matplotlib to use LaTeX\n",
    "rc('font', **{'family': 'serif', 'serif': ['Computer Modern']})\n",
    "rc('text', usetex=True)\n",
    "plt.rcParams.update({'font.size': 18})\n",
    "# Use latex font "
   ]
  },
  {
   "cell_type": "code",
   "execution_count": 91,
   "metadata": {},
   "outputs": [
    {
     "data": {
      "text/plain": [
       "Text(0.5, 1.0, 'Width of CSS for heavy-tails')"
      ]
     },
     "execution_count": 91,
     "metadata": {},
     "output_type": "execute_result"
    },
    {
     "data": {
      "image/png": "[encoded data removed]",
      "text/plain": [
       "<Figure size 432x288 with 1 Axes>"
      ]
     },
     "metadata": {
      "needs_background": "light"
     },
     "output_type": "display_data"
    }
   ],
   "source": [
    "start = 150 \n",
    "\n",
    "plt.plot(geom_width_d5[start:], ls=':', c='blue')\n",
    "plt.plot(geom_dh_width_d5[start:], ls='-.', c='blue')\n",
    "# plt.plot(mom_widths_d5[start:], ls='--', c='blue')\n",
    "# plt.plot(mom_dh_width_d5[start:], ls='-.', c='blue')\n",
    "plt.plot(cat_widths_d5[start:], c='blue') # label='$d=5$')\n",
    "\n",
    "# plt.plot(mom_widths_d20[start:], ls='--', c='green')\n",
    "# plt.plot(cat_widths_d20[start:], c='green', label='$d=20$')\n",
    "\n",
    "# plt.plot(mom_widths_d100[start:], ls='--', c='purple')\n",
    "# plt.plot(cat_widths_d100[start:], c='purple', label='$d=100$')\n",
    "\n",
    "plt.plot([], [], ls='-.', c='black', label='Stitching')\n",
    "plt.plot([], [], ls='--', c='black', label='Median of means')\n",
    "plt.plot([], [], c='black', label='Sequential CG')\n",
    "plt.legend(loc='upper right')\n",
    "# plt.xscale('log')\n",
    "plt.yscale('log')\n",
    "plt.xlabel('$t$')\n",
    "plt.ylabel('CSS Width')\n",
    "plt.title('Width of CSS for heavy-tails')\n",
    "\n",
    "# plt.savefig('heavy_tails.png', dpi=300, bbox_inches='tight')\n"
   ]
  },
  {
   "cell_type": "code",
   "execution_count": 22,
   "metadata": {},
   "outputs": [
    {
     "name": "stdout",
     "output_type": "stream",
     "text": [
      "0\n",
      "1\n",
      "2\n",
      "4\n",
      "8\n",
      "16\n",
      "32\n",
      "64\n",
      "128\n",
      "256\n",
      "512\n"
     ]
    }
   ],
   "source": [
    "for i in range(1000): \n",
    "\n",
    "    if i == 0 or (i & (i-1)) == 0: \n",
    "        print(i)"
   ]
  }
 ],
 "metadata": {
  "kernelspec": {
   "display_name": "playground",
   "language": "python",
   "name": "python3"
  },
  "language_info": {
   "codemirror_mode": {
    "name": "ipython",
    "version": 3
   },
   "file_extension": ".py",
   "mimetype": "text/x-python",
   "name": "python",
   "nbconvert_exporter": "python",
   "pygments_lexer": "ipython3",
   "version": "3.9.12"
  }
 },
 "nbformat": 4,
 "nbformat_minor": 2
}

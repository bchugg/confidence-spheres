{
 "cells": [
  {
   "cell_type": "code",
   "execution_count": null,
   "id": "5be67344",
   "metadata": {},
   "outputs": [],
   "source": [
    "import pandas as pd\n",
    "import numpy as np \n",
    "import matplotlib.pyplot as plt\n",
    "from sklearn.ensemble import RandomForestClassifier\n",
    "from scipy.special import iv\n",
    "import matplotlib.cm as cm"
   ]
  },
  {
   "cell_type": "code",
   "execution_count": null,
   "id": "3a5c010b",
   "metadata": {},
   "outputs": [],
   "source": [
    "d = 10\n",
    "kappa = 1\n",
    "\n",
    "\n",
    "def A(d, kappa): \n",
    "    return iv(d/2, kappa) / iv(d/2-1, kappa)"
   ]
  },
  {
   "cell_type": "code",
   "execution_count": null,
   "id": "fabb5bfc",
   "metadata": {},
   "outputs": [],
   "source": [
    "vals = [A(d,d) for d in np.arange(100,1000)] \n",
    "plt.plot(np.arange(100,1000), vals)"
   ]
  },
  {
   "cell_type": "code",
   "execution_count": null,
   "id": "254c406e",
   "metadata": {},
   "outputs": [],
   "source": [
    "from matplotlib import rc\n",
    "\n",
    "# Configure Matplotlib to use LaTeX\n",
    "rc('font', **{'family': 'serif', 'serif': ['Computer Modern']})\n",
    "rc('text', usetex=True)"
   ]
  },
  {
   "cell_type": "code",
   "execution_count": null,
   "id": "456cb2b3",
   "metadata": {},
   "outputs": [],
   "source": [
    "kappa_range = np.arange(1, 100)\n",
    "d_range = [10, 20, 50, 100, 200]\n",
    "\n",
    "# Create a list of colors from the 'viridis' colormap\n",
    "c_wheel = [cm.viridis(i) for i in np.linspace(0,1,6)]\n",
    "\n",
    "for i, d in enumerate(d_range): \n",
    "    vals = [A(d, kappa) for kappa in kappa_range] \n",
    "    plt.plot(kappa_range, vals, label=f'$d={d}$', c=c_wheel[i])\n",
    "    \n",
    "# for k in d_range[:-1]: \n",
    "#     plt.plot([k], [A(k, k)], 'o', c='k', )\n",
    "    \n",
    "# plt.plot([], [], c='k', label='$A_d(d)$')\n",
    "\n",
    "plt.legend(fontsize=15)\n",
    "plt.xlabel('$\\kappa$', fontsize=20)\n",
    "plt.ylabel('$A_d(\\kappa)$', fontsize=20)\n",
    "plt.xticks(fontsize=20)  \n",
    "\n",
    "plt.savefig('adk.png', dpi=300, bbox_inches='tight')"
   ]
  }
 ],
 "metadata": {
  "kernelspec": {
   "display_name": "Python 3 (ipykernel)",
   "language": "python",
   "name": "python3"
  },
  "language_info": {
   "codemirror_mode": {
    "name": "ipython",
    "version": 3
   },
   "file_extension": ".py",
   "mimetype": "text/x-python",
   "name": "python",
   "nbconvert_exporter": "python",
   "pygments_lexer": "ipython3",
   "version": "3.9.12"
  }
 },
 "nbformat": 4,
 "nbformat_minor": 5
}

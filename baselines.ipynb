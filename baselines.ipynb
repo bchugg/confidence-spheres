{
 "cells": [
  {
   "cell_type": "code",
   "execution_count": 6,
   "id": "8c4297b4",
   "metadata": {},
   "outputs": [],
   "source": [
    "import numpy as np \n",
    "import matplotlib.pyplot as plt"
   ]
  },
  {
   "cell_type": "code",
   "execution_count": 12,
   "id": "a9dba76e",
   "metadata": {},
   "outputs": [],
   "source": [
    "d = 2 \n",
    "\n",
    "def t_sample(d=2): \n",
    "    \n",
    "    t_samples = np.random.standard_t(df=3, size=d)\n",
    "    return t_samples\n",
    "\n",
    "def t_var(d=2): \n",
    "    return d*3 # assumes 3 dof \n",
    "    "
   ]
  },
  {
   "cell_type": "code",
   "execution_count": 10,
   "id": "b5e99fcc",
   "metadata": {},
   "outputs": [],
   "source": [
    "d = 3 \n",
    "delta = 0.05 \n",
    "\n",
    "Vt = np.eye(d)\n",
    "\n",
    "widths = []\n",
    "for i in range(1, 1000): \n",
    "    \n",
    "    deltat = delta / (i**2 * np.pi**2 / 6)\n",
    "    Xi = t_sample(d)\n",
    "    Vt += np.outer(Xi, Xi)\n",
    "    \n",
    "    det_Vt = np.linalg.det(Vt)\n",
    "    width = np.sqrt(2 * np.log(np.sqrt(det_Vt) / delta)) / i\n",
    "    widths.append(width)\n",
    "\n"
   ]
  },
  {
   "cell_type": "code",
   "execution_count": 11,
   "metadata": {},
   "outputs": [
    {
     "data": {
      "text/plain": [
       "[<matplotlib.lines.Line2D at 0x7faca9a694f0>]"
      ]
     },
     "execution_count": 11,
     "metadata": {},
     "output_type": "execute_result"
    },
    {
     "data": {
      "image/png": "[encoded data removed]",
      "text/plain": [
       "<Figure size 432x288 with 1 Axes>"
      ]
     },
     "metadata": {
      "needs_background": "light"
     },
     "output_type": "display_data"
    }
   ],
   "source": [
    "plt.plot(np.arange(len(widths)), widths)"
   ]
  },
  {
   "cell_type": "code",
   "execution_count": 17,
   "metadata": {},
   "outputs": [],
   "source": [
    "top =  1/2 + np.log(1/delta)\n",
    "bottom = 0 \n",
    "catoni = []\n",
    "for i in range(1,1000): \n",
    "\n",
    "    lambda_i = np.sqrt(np.log(1/delta)  / (t_var(d)*i*np.log(i+1))) \n",
    "    top += lambda_i**2 * t_var(d) * (2*np.exp(4) +1)\n",
    "    bottom += lambda_i\n",
    "    catoni.append(top / bottom)\n"
   ]
  },
  {
   "cell_type": "code",
   "execution_count": null,
   "metadata": {},
   "outputs": [],
   "source": []
  },
  {
   "cell_type": "code",
   "execution_count": 18,
   "metadata": {},
   "outputs": [
    {
     "data": {
      "text/plain": [
       "[<matplotlib.lines.Line2D at 0x7faca9d1c0d0>]"
      ]
     },
     "execution_count": 18,
     "metadata": {},
     "output_type": "execute_result"
    },
    {
     "data": {
      "image/png": "[encoded data removed]",
      "text/plain": [
       "<Figure size 432x288 with 1 Axes>"
      ]
     },
     "metadata": {
      "needs_background": "light"
     },
     "output_type": "display_data"
    }
   ],
   "source": [
    "plt.plot(np.arange(len(catoni)), catoni)"
   ]
  }
 ],
 "metadata": {
  "kernelspec": {
   "display_name": "Python 3 (ipykernel)",
   "language": "python",
   "name": "python3"
  },
  "language_info": {
   "codemirror_mode": {
    "name": "ipython",
    "version": 3
   },
   "file_extension": ".py",
   "mimetype": "text/x-python",
   "name": "python",
   "nbconvert_exporter": "python",
   "pygments_lexer": "ipython3",
   "version": "3.9.12"
  }
 },
 "nbformat": 4,
 "nbformat_minor": 5
}

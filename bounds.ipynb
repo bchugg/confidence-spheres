{
 "cells": [
  {
   "cell_type": "code",
   "execution_count": null,
   "id": "3f367461",
   "metadata": {},
   "outputs": [],
   "source": [
    "import numpy as np \n",
    "import matplotlib.pyplot as plt\n",
    "import scipy \n",
    "from scipy.linalg import norm\n",
    "from scipy.special import iv\n",
    "from scipy.stats import beta"
   ]
  },
  {
   "cell_type": "code",
   "execution_count": null,
   "id": "b05ea75f",
   "metadata": {},
   "outputs": [],
   "source": [
    "from matplotlib import rc\n",
    "\n",
    "# Configure Matplotlib to use LaTeX\n",
    "rc('font', **{'family': 'serif', 'serif': ['Computer Modern']})\n",
    "rc('text', usetex=True)\n",
    "plt.rcParams.update({'font.size': 18})"
   ]
  },
  {
   "cell_type": "markdown",
   "id": "875dfed6",
   "metadata": {},
   "source": [
    "# Empirical Bounds"
   ]
  },
  {
   "cell_type": "code",
   "execution_count": null,
   "id": "8b023154",
   "metadata": {},
   "outputs": [],
   "source": [
    "x = np.linspace(0, 1, 1000)\n",
    "\n",
    "r1 = beta.pdf(x, 50, 10)\n",
    "r2 = beta.pdf(x, 10, 10)\n",
    "\n",
    "plt.plot(x, r1)\n",
    "plt.plot(x, r2)"
   ]
  },
  {
   "cell_type": "code",
   "execution_count": null,
   "id": "c3081054",
   "metadata": {},
   "outputs": [],
   "source": [
    "def gen_unif_vec(d): \n",
    "    return beta.rvs(1, 1, size=d)\n",
    "\n",
    "def gen_beta1_vec(d): \n",
    "    return beta.rvs(10, 10, size=d) \n",
    "\n",
    "def gen_beta2_vec(d): \n",
    "    return beta.rvs(50, 10, size=d) \n",
    "\n",
    "\n",
    "def lambd(i, alpha, sigma2): \n",
    "    \n",
    "    top = 8 * np.log(1/alpha)\n",
    "    bottom = i * np.log(i+1) * sigma2 \n",
    "    return min(np.sqrt(top / bottom), 0.5)\n",
    "\n",
    "def psiE(x):\n",
    "    assert 0 < x < 1\n",
    "    return -x - np.log(1 - x)\n",
    "\n",
    "def A(d, kappa): \n",
    "    return iv(d/2, kappa) / iv(d/2-1, kappa)\n",
    "\n",
    "\n",
    "def emp_bernstein(alpha, B, d, iters, gen_vec): \n",
    "\n",
    "    adk = A(d, np.sqrt(d))\n",
    "    \n",
    "    emp_mean_numerator = 1/2\n",
    "    running_numerator = 4*B*np.sqrt(d)*adk + 2*B*np.sqrt(d)*np.log(1/alpha)\n",
    "    running_denominator = 0\n",
    "\n",
    "    sigma_hat_top = 1/4\n",
    "\n",
    "    width = []\n",
    "    \n",
    "    for i in range(1,int(iters)): \n",
    "\n",
    "        # Compute lambda \n",
    "        lmd = lambd(i, alpha, sigma_hat_top/i)\n",
    "\n",
    "        # Get observations \n",
    "        newX = gen_vec(d)\n",
    "\n",
    "        # Update width \n",
    "        running_numerator += psiE(lmd) * (norm(newX - emp_mean_numerator / i))**2\n",
    "        running_denominator += adk*lmd\n",
    "        \n",
    "        width.append(min(running_numerator/running_denominator, 1))\n",
    "        \n",
    "        # Update sigma and empirical mean \n",
    "        emp_mean_numerator += newX \n",
    "        sigma_hat_top += norm(newX - (emp_mean_numerator / (i+1)))**2\n",
    "        \n",
    "    return width \n",
    "\n",
    "\n",
    "def subG_boundary(d, alpha, sigma, iters): \n",
    "    \n",
    "    num = np.sqrt(d)*2 + np.sqrt(d) * np.log(1/alpha) \n",
    "    denom = 0\n",
    "    \n",
    "    width = []\n",
    "    for i in range(1, int(iters)): \n",
    "        \n",
    "        lmb = np.sqrt(np.log(1/alpha) / (i * np.log(i+1) * sigma**2))\n",
    "        num += np.sqrt(d) * (sigma**2) * (lmb**2) / 2\n",
    "        denom += (2/3) * lmb \n",
    "        width.append(min(num /denom, 1))\n",
    "        \n",
    "    return width \n",
    "\n",
    "    \n",
    "    \n",
    "    \n",
    "    "
   ]
  },
  {
   "cell_type": "code",
   "execution_count": null,
   "id": "da8ce9ac",
   "metadata": {},
   "outputs": [],
   "source": [
    "alpha = 0.05 \n",
    "d = 5 \n",
    "B = d/2\n",
    "iters = 10e3\n",
    "\n",
    "width_beta1 = emp_bernstein(alpha, B, d, iters, gen_beta1_vec)\n",
    "width_beta2 = emp_bernstein(alpha, B, d, iters, gen_beta2_vec)\n",
    "width_unif = emp_bernstein(alpha, B, d, iters, gen_unif_vec)\n",
    "\n"
   ]
  },
  {
   "cell_type": "code",
   "execution_count": null,
   "id": "b887f001",
   "metadata": {},
   "outputs": [],
   "source": [
    "start = 150\n",
    "\n",
    "plt.plot(range(start, int(iters)), width_beta1[start-1:], label='Beta(10,10)', c='purple', lw=2, ls='--')\n",
    "plt.plot(range(start, int(iters)), width_beta2[start-1:], label='Beta(50,10)', c='tab:olive', lw=2, ls='--')\n",
    "plt.plot(range(start, int(iters)), width_unif[start-1:], label='Beta(1,1)', c='green', lw=2, ls='--')\n",
    "plt.legend(fontsize=16)\n",
    "# plt.xscale('log')\n",
    "plt.xlim()\n",
    "plt.ylabel('CSS Width')\n",
    "plt.xlabel('Samples')\n",
    "plt.xticks(fontsize=14)\n",
    "plt.yticks(fontsize=14)\n",
    "plt.savefig('emp_bern_bounds_beta.png', dpi=300, bbox_inches='tight')"
   ]
  },
  {
   "cell_type": "markdown",
   "id": "53f5c161",
   "metadata": {},
   "source": [
    "# Robustness "
   ]
  },
  {
   "cell_type": "code",
   "execution_count": null,
   "id": "a319e8c0",
   "metadata": {},
   "outputs": [],
   "source": [
    "def robust_bernstein(alpha, B, d, iters, eps, gen_vec): \n",
    "\n",
    "    adk = A(d, np.sqrt(d))\n",
    "    \n",
    "    # Compute lambda \n",
    "    lmd = 2 / (3*np.exp(2))\n",
    "    \n",
    "    emp_mean_numerator = 1/2\n",
    "    running_numerator = 9*B*np.sqrt(d) * np.log(1/alpha) / lmd\n",
    "    running_denominator = 0\n",
    "\n",
    "    width = []    \n",
    "    for i in range(1,int(iters)): \n",
    "\n",
    "        # Get observations \n",
    "        newX = gen_vec(d)\n",
    "\n",
    "        # Update width \n",
    "        running_numerator += 0.036 * np.sqrt(d) * (norm(newX - emp_mean_numerator / i))**2 / B\n",
    "        running_denominator += 1\n",
    "        \n",
    "        width.append(min(running_numerator/running_denominator + eps, 1))\n",
    "        \n",
    "        # Update sigma and empirical mean \n",
    "        emp_mean_numerator += newX \n",
    "        \n",
    "    return width \n"
   ]
  },
  {
   "cell_type": "code",
   "execution_count": null,
   "id": "6694b5fe",
   "metadata": {},
   "outputs": [],
   "source": [
    "iters = 10e4\n",
    "robust_width = robust_bernstein(alpha, B, d, iters, 0.2, gen_unif_vec)"
   ]
  },
  {
   "cell_type": "code",
   "execution_count": null,
   "id": "e5e0bf40",
   "metadata": {},
   "outputs": [],
   "source": [
    "plt.plot(range(1, int(10e4)), robust_width)"
   ]
  }
 ],
 "metadata": {
  "kernelspec": {
   "display_name": "Python 3 (ipykernel)",
   "language": "python",
   "name": "python3"
  },
  "language_info": {
   "codemirror_mode": {
    "name": "ipython",
    "version": 3
   },
   "file_extension": ".py",
   "mimetype": "text/x-python",
   "name": "python",
   "nbconvert_exporter": "python",
   "pygments_lexer": "ipython3",
   "version": "3.9.12"
  }
 },
 "nbformat": 4,
 "nbformat_minor": 5
}
